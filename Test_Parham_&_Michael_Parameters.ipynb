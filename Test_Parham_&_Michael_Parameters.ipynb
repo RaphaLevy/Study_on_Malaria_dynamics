{
 "cells": [
  {
   "cell_type": "code",
   "execution_count": 1,
   "metadata": {},
   "outputs": [],
   "source": [
    "import numpy as np\n",
    "import pandas as pd\n",
    "from scipy.integrate import solve_ivp\n",
    "import matplotlib.pyplot as plt\n",
    "from numpy import cos\n",
    "from math import log\n",
    "from scipy.interpolate import interp1d\n",
    "from ipywidgets import interact, interactive, fixed, interact_manual\n",
    "import ipywidgets as widgets\n",
    "from mpl_toolkits.mplot3d import Axes3D\n",
    "from scipy.optimize import minimize_scalar\n",
    "from scipy.optimize import minimize\n",
    "from mpl_toolkits.mplot3d.art3d import Poly3DCollection\n",
    "from sage.plot.plot3d.parametric_surface import ParametricSurface\n",
    "import plotly.graph_objects as go\n",
    "import plotly.express as px\n",
    "from scipy.optimize import fsolve\n",
    "from sympy import symbols, Eq, solve"
   ]
  },
  {
   "cell_type": "code",
   "execution_count": null,
   "metadata": {},
   "outputs": [],
   "source": [
    "# #### Getting the full data:\n",
    "\n",
    "# pages = np.arange(1, 19) # total amount of pages is returned in the request\n",
    "# per_page = 100\n",
    "# for page in pages:\n",
    "#     pagination = f\"?page={page}&per_page={per_page}&\"\n",
    "#     filters = \"start=%s&end=%s\" % (\"2004-01-01\", \"2008-12-31\")\n",
    "\n",
    "#     resp = requests.get(climate_api + pagination + filters)\n",
    "\n",
    "# # Or you can add a geocode to the filters\n",
    "# geocode = 1302603\n",
    "# resp = requests.get(\n",
    "#     climate_api + \n",
    "#     pagination + \n",
    "#     filters +\n",
    "#     f\"&geocode={geocode}\"\n",
    "# )\n",
    "\n",
    "# items = resp.json()[\"items\"] # JSON data in dict format\n",
    "# #total_items = resp.json()[\"total_items\"] # JSON data in dict format\n",
    "# resp.json()[\"pagination\"] # Pagination*"
   ]
  },
  {
   "cell_type": "code",
   "execution_count": null,
   "metadata": {},
   "outputs": [],
   "source": [
    "# total_pages = 18 \n",
    "# start_date = \"2004-01-01\"\n",
    "# end_date = \"2008-12-31\"\n",
    "# geocode = 1302603\n",
    "\n",
    "# all_items = []  # List to store all items\n",
    "\n",
    "# # Loop through each page\n",
    "# for page in range(1, total_pages + 1):\n",
    "#     pagination = f\"?page={page}&per_page={per_page}&\"\n",
    "#     filters = f\"start={start_date}&end={end_date}&geocode={geocode}\"\n",
    "    \n",
    "#     resp = requests.get(climate_api + pagination + filters)\n",
    "    \n",
    "#     # Check if the request was successful\n",
    "#     if resp.status_code == 200:\n",
    "#         items = resp.json().get(\"items\", [])  # Get items, default to an empty list if key not found\n",
    "#         all_items.extend(items)  # Append the items from this page to the list\n",
    "#     else:\n",
    "#         print(f\"Failed to retrieve data for page {page}\")\n",
    "#         break  # Break the loop in case of a failed request\n",
    "\n",
    "# df = pd.DataFrame(all_items)\n",
    "# df"
   ]
  },
  {
   "cell_type": "code",
   "execution_count": 3,
   "metadata": {},
   "outputs": [
    {
     "data": {
      "text/html": [
       "<div>\n",
       "<style scoped>\n",
       "    .dataframe tbody tr th:only-of-type {\n",
       "        vertical-align: middle;\n",
       "    }\n",
       "\n",
       "    .dataframe tbody tr th {\n",
       "        vertical-align: top;\n",
       "    }\n",
       "\n",
       "    .dataframe thead th {\n",
       "        text-align: right;\n",
       "    }\n",
       "</style>\n",
       "<table border=\"1\" class=\"dataframe\">\n",
       "  <thead>\n",
       "    <tr style=\"text-align: right;\">\n",
       "      <th></th>\n",
       "      <th>date</th>\n",
       "      <th>geocodigo</th>\n",
       "      <th>temp_min</th>\n",
       "      <th>temp_med</th>\n",
       "      <th>temp_max</th>\n",
       "      <th>precip_min</th>\n",
       "      <th>precip_med</th>\n",
       "      <th>precip_max</th>\n",
       "      <th>precip_tot</th>\n",
       "      <th>pressao_min</th>\n",
       "      <th>pressao_med</th>\n",
       "      <th>pressao_max</th>\n",
       "      <th>umid_min</th>\n",
       "      <th>umid_med</th>\n",
       "      <th>umid_max</th>\n",
       "    </tr>\n",
       "  </thead>\n",
       "  <tbody>\n",
       "    <tr>\n",
       "      <th>0</th>\n",
       "      <td>2004-01-01</td>\n",
       "      <td>1302603</td>\n",
       "      <td>24.7052</td>\n",
       "      <td>26.7748</td>\n",
       "      <td>30.5519</td>\n",
       "      <td>0.0000</td>\n",
       "      <td>0.7406</td>\n",
       "      <td>3.0196</td>\n",
       "      <td>5.9251</td>\n",
       "      <td>0.9951</td>\n",
       "      <td>0.9980</td>\n",
       "      <td>1.0012</td>\n",
       "      <td>75.0331</td>\n",
       "      <td>87.1228</td>\n",
       "      <td>94.9243</td>\n",
       "    </tr>\n",
       "    <tr>\n",
       "      <th>1</th>\n",
       "      <td>2004-01-02</td>\n",
       "      <td>1302603</td>\n",
       "      <td>24.5850</td>\n",
       "      <td>26.8201</td>\n",
       "      <td>30.1501</td>\n",
       "      <td>0.0212</td>\n",
       "      <td>0.7749</td>\n",
       "      <td>3.4790</td>\n",
       "      <td>6.1993</td>\n",
       "      <td>0.9937</td>\n",
       "      <td>0.9971</td>\n",
       "      <td>0.9990</td>\n",
       "      <td>74.2346</td>\n",
       "      <td>86.2345</td>\n",
       "      <td>95.9302</td>\n",
       "    </tr>\n",
       "    <tr>\n",
       "      <th>2</th>\n",
       "      <td>2004-01-03</td>\n",
       "      <td>1302603</td>\n",
       "      <td>24.2967</td>\n",
       "      <td>26.2160</td>\n",
       "      <td>28.7951</td>\n",
       "      <td>0.0028</td>\n",
       "      <td>0.5410</td>\n",
       "      <td>1.0341</td>\n",
       "      <td>4.3277</td>\n",
       "      <td>0.9933</td>\n",
       "      <td>0.9962</td>\n",
       "      <td>0.9981</td>\n",
       "      <td>80.7129</td>\n",
       "      <td>89.0086</td>\n",
       "      <td>93.7411</td>\n",
       "    </tr>\n",
       "    <tr>\n",
       "      <th>3</th>\n",
       "      <td>2004-01-04</td>\n",
       "      <td>1302603</td>\n",
       "      <td>24.4803</td>\n",
       "      <td>26.0561</td>\n",
       "      <td>28.5809</td>\n",
       "      <td>0.0006</td>\n",
       "      <td>0.3706</td>\n",
       "      <td>1.8163</td>\n",
       "      <td>2.9649</td>\n",
       "      <td>0.9925</td>\n",
       "      <td>0.9951</td>\n",
       "      <td>0.9970</td>\n",
       "      <td>76.6341</td>\n",
       "      <td>88.7608</td>\n",
       "      <td>94.3893</td>\n",
       "    </tr>\n",
       "    <tr>\n",
       "      <th>4</th>\n",
       "      <td>2004-01-05</td>\n",
       "      <td>1302603</td>\n",
       "      <td>24.1931</td>\n",
       "      <td>25.6888</td>\n",
       "      <td>28.6974</td>\n",
       "      <td>0.0647</td>\n",
       "      <td>0.8415</td>\n",
       "      <td>2.1096</td>\n",
       "      <td>6.7318</td>\n",
       "      <td>0.9938</td>\n",
       "      <td>0.9955</td>\n",
       "      <td>0.9973</td>\n",
       "      <td>80.7770</td>\n",
       "      <td>90.8974</td>\n",
       "      <td>94.9595</td>\n",
       "    </tr>\n",
       "    <tr>\n",
       "      <th>...</th>\n",
       "      <td>...</td>\n",
       "      <td>...</td>\n",
       "      <td>...</td>\n",
       "      <td>...</td>\n",
       "      <td>...</td>\n",
       "      <td>...</td>\n",
       "      <td>...</td>\n",
       "      <td>...</td>\n",
       "      <td>...</td>\n",
       "      <td>...</td>\n",
       "      <td>...</td>\n",
       "      <td>...</td>\n",
       "      <td>...</td>\n",
       "      <td>...</td>\n",
       "      <td>...</td>\n",
       "    </tr>\n",
       "    <tr>\n",
       "      <th>1779</th>\n",
       "      <td>2008-12-27</td>\n",
       "      <td>1302603</td>\n",
       "      <td>24.2679</td>\n",
       "      <td>25.8514</td>\n",
       "      <td>28.0496</td>\n",
       "      <td>0.1398</td>\n",
       "      <td>0.7252</td>\n",
       "      <td>3.4506</td>\n",
       "      <td>5.8018</td>\n",
       "      <td>0.9920</td>\n",
       "      <td>0.9947</td>\n",
       "      <td>0.9974</td>\n",
       "      <td>77.0052</td>\n",
       "      <td>88.3014</td>\n",
       "      <td>94.0025</td>\n",
       "    </tr>\n",
       "    <tr>\n",
       "      <th>1780</th>\n",
       "      <td>2008-12-28</td>\n",
       "      <td>1302603</td>\n",
       "      <td>24.4061</td>\n",
       "      <td>26.4017</td>\n",
       "      <td>29.3633</td>\n",
       "      <td>0.0103</td>\n",
       "      <td>0.8356</td>\n",
       "      <td>3.8776</td>\n",
       "      <td>6.6847</td>\n",
       "      <td>0.9933</td>\n",
       "      <td>0.9952</td>\n",
       "      <td>0.9975</td>\n",
       "      <td>75.8251</td>\n",
       "      <td>88.0135</td>\n",
       "      <td>94.8036</td>\n",
       "    </tr>\n",
       "    <tr>\n",
       "      <th>1781</th>\n",
       "      <td>2008-12-29</td>\n",
       "      <td>1302603</td>\n",
       "      <td>24.1979</td>\n",
       "      <td>26.7066</td>\n",
       "      <td>31.0737</td>\n",
       "      <td>0.0353</td>\n",
       "      <td>0.4734</td>\n",
       "      <td>1.2593</td>\n",
       "      <td>3.7872</td>\n",
       "      <td>0.9917</td>\n",
       "      <td>0.9953</td>\n",
       "      <td>0.9977</td>\n",
       "      <td>70.3917</td>\n",
       "      <td>86.7352</td>\n",
       "      <td>94.0349</td>\n",
       "    </tr>\n",
       "    <tr>\n",
       "      <th>1782</th>\n",
       "      <td>2008-12-30</td>\n",
       "      <td>1302603</td>\n",
       "      <td>23.8070</td>\n",
       "      <td>24.7968</td>\n",
       "      <td>26.8158</td>\n",
       "      <td>0.4586</td>\n",
       "      <td>6.8408</td>\n",
       "      <td>23.2136</td>\n",
       "      <td>54.7267</td>\n",
       "      <td>0.9943</td>\n",
       "      <td>0.9959</td>\n",
       "      <td>0.9984</td>\n",
       "      <td>86.4121</td>\n",
       "      <td>91.5930</td>\n",
       "      <td>94.2908</td>\n",
       "    </tr>\n",
       "    <tr>\n",
       "      <th>1783</th>\n",
       "      <td>2008-12-31</td>\n",
       "      <td>1302603</td>\n",
       "      <td>23.0573</td>\n",
       "      <td>25.0496</td>\n",
       "      <td>28.3984</td>\n",
       "      <td>0.0108</td>\n",
       "      <td>1.8999</td>\n",
       "      <td>5.5882</td>\n",
       "      <td>15.1989</td>\n",
       "      <td>0.9944</td>\n",
       "      <td>0.9964</td>\n",
       "      <td>0.9991</td>\n",
       "      <td>74.3636</td>\n",
       "      <td>88.6090</td>\n",
       "      <td>95.6304</td>\n",
       "    </tr>\n",
       "  </tbody>\n",
       "</table>\n",
       "<p>1784 rows × 15 columns</p>\n",
       "</div>"
      ],
      "text/plain": [
       "            date  geocodigo  temp_min  temp_med  temp_max  precip_min  \\\n",
       "0     2004-01-01    1302603   24.7052   26.7748   30.5519      0.0000   \n",
       "1     2004-01-02    1302603   24.5850   26.8201   30.1501      0.0212   \n",
       "2     2004-01-03    1302603   24.2967   26.2160   28.7951      0.0028   \n",
       "3     2004-01-04    1302603   24.4803   26.0561   28.5809      0.0006   \n",
       "4     2004-01-05    1302603   24.1931   25.6888   28.6974      0.0647   \n",
       "...          ...        ...       ...       ...       ...         ...   \n",
       "1779  2008-12-27    1302603   24.2679   25.8514   28.0496      0.1398   \n",
       "1780  2008-12-28    1302603   24.4061   26.4017   29.3633      0.0103   \n",
       "1781  2008-12-29    1302603   24.1979   26.7066   31.0737      0.0353   \n",
       "1782  2008-12-30    1302603   23.8070   24.7968   26.8158      0.4586   \n",
       "1783  2008-12-31    1302603   23.0573   25.0496   28.3984      0.0108   \n",
       "\n",
       "      precip_med  precip_max  precip_tot  pressao_min  pressao_med  \\\n",
       "0         0.7406      3.0196      5.9251       0.9951       0.9980   \n",
       "1         0.7749      3.4790      6.1993       0.9937       0.9971   \n",
       "2         0.5410      1.0341      4.3277       0.9933       0.9962   \n",
       "3         0.3706      1.8163      2.9649       0.9925       0.9951   \n",
       "4         0.8415      2.1096      6.7318       0.9938       0.9955   \n",
       "...          ...         ...         ...          ...          ...   \n",
       "1779      0.7252      3.4506      5.8018       0.9920       0.9947   \n",
       "1780      0.8356      3.8776      6.6847       0.9933       0.9952   \n",
       "1781      0.4734      1.2593      3.7872       0.9917       0.9953   \n",
       "1782      6.8408     23.2136     54.7267       0.9943       0.9959   \n",
       "1783      1.8999      5.5882     15.1989       0.9944       0.9964   \n",
       "\n",
       "      pressao_max  umid_min  umid_med  umid_max  \n",
       "0          1.0012   75.0331   87.1228   94.9243  \n",
       "1          0.9990   74.2346   86.2345   95.9302  \n",
       "2          0.9981   80.7129   89.0086   93.7411  \n",
       "3          0.9970   76.6341   88.7608   94.3893  \n",
       "4          0.9973   80.7770   90.8974   94.9595  \n",
       "...           ...       ...       ...       ...  \n",
       "1779       0.9974   77.0052   88.3014   94.0025  \n",
       "1780       0.9975   75.8251   88.0135   94.8036  \n",
       "1781       0.9977   70.3917   86.7352   94.0349  \n",
       "1782       0.9984   86.4121   91.5930   94.2908  \n",
       "1783       0.9991   74.3636   88.6090   95.6304  \n",
       "\n",
       "[1784 rows x 15 columns]"
      ]
     },
     "execution_count": 3,
     "metadata": {},
     "output_type": "execute_result"
    }
   ],
   "source": [
    "# Loading the CSV file\n",
    "df = pd.read_csv('climate_api_data.csv')\n",
    "\n",
    "df"
   ]
  },
  {
   "cell_type": "code",
   "execution_count": 4,
   "metadata": {},
   "outputs": [
    {
     "name": "stdout",
     "output_type": "stream",
     "text": [
      "2004    341\n",
      "2005    347\n",
      "2006    365\n",
      "2007    365\n",
      "2008    366\n",
      "Name: year, dtype: int64\n"
     ]
    }
   ],
   "source": [
    "datetime_df = pd.DataFrame()\n",
    "datetime_df['date'] = pd.to_datetime(df['date'])\n",
    "\n",
    "# Extract the year from the 'date' column\n",
    "datetime_df['year'] = datetime_df['date'].dt.year\n",
    "\n",
    "# Count the occurrences of each year\n",
    "year_counts = datetime_df['year'].value_counts().sort_index()\n",
    "\n",
    "print(year_counts)"
   ]
  },
  {
   "cell_type": "code",
   "execution_count": 5,
   "metadata": {},
   "outputs": [
    {
     "name": "stdout",
     "output_type": "stream",
     "text": [
      "1     31\n",
      "2     29\n",
      "3     31\n",
      "4     30\n",
      "5     31\n",
      "6     30\n",
      "7     31\n",
      "8     31\n",
      "9     30\n",
      "10    31\n",
      "11    30\n",
      "12     6\n",
      "Name: month, dtype: int64\n"
     ]
    },
    {
     "name": "stderr",
     "output_type": "stream",
     "text": [
      "/opt/sagemath-9.2/local/lib/python3.7/site-packages/sage/repl/ipython_kernel/__main__.py:10: SettingWithCopyWarning: \n",
      "A value is trying to be set on a copy of a slice from a DataFrame.\n",
      "Try using .loc[row_indexer,col_indexer] = value instead\n",
      "\n",
      "See the caveats in the documentation: https://pandas.pydata.org/pandas-docs/stable/user_guide/indexing.html#returning-a-view-versus-a-copy\n"
     ]
    }
   ],
   "source": [
    "specific_year = 2004\n",
    "\n",
    "# Ensure 'date' column is in datetime format\n",
    "datetime_df['date'] = pd.to_datetime(datetime_df['date'])\n",
    "\n",
    "# Filter the DataFrame for the specific year\n",
    "df_year = datetime_df[datetime_df['date'].dt.year == specific_year]\n",
    "\n",
    "# Extract the month from the 'date' column\n",
    "df_year['month'] = df_year['date'].dt.month\n",
    "\n",
    "# Count the occurrences of each month\n",
    "month_counts = df_year['month'].value_counts().sort_index()\n",
    "\n",
    "print(month_counts)"
   ]
  },
  {
   "cell_type": "code",
   "execution_count": 6,
   "metadata": {},
   "outputs": [
    {
     "name": "stdout",
     "output_type": "stream",
     "text": [
      "1     31\n",
      "2     10\n",
      "3     31\n",
      "4     30\n",
      "5     31\n",
      "6     30\n",
      "7     31\n",
      "8     31\n",
      "9     30\n",
      "10    31\n",
      "11    30\n",
      "12    31\n",
      "Name: month, dtype: int64\n"
     ]
    },
    {
     "name": "stderr",
     "output_type": "stream",
     "text": [
      "/opt/sagemath-9.2/local/lib/python3.7/site-packages/sage/repl/ipython_kernel/__main__.py:10: SettingWithCopyWarning: \n",
      "A value is trying to be set on a copy of a slice from a DataFrame.\n",
      "Try using .loc[row_indexer,col_indexer] = value instead\n",
      "\n",
      "See the caveats in the documentation: https://pandas.pydata.org/pandas-docs/stable/user_guide/indexing.html#returning-a-view-versus-a-copy\n"
     ]
    }
   ],
   "source": [
    "specific_year = 2005\n",
    "\n",
    "# Ensure 'date' column is in datetime format\n",
    "datetime_df['date'] = pd.to_datetime(datetime_df['date'])\n",
    "\n",
    "# Filter the DataFrame for the specific year\n",
    "df_year = datetime_df[datetime_df['date'].dt.year == specific_year]\n",
    "\n",
    "# Extract the month from the 'date' column\n",
    "df_year['month'] = df_year['date'].dt.month\n",
    "\n",
    "# Count the occurrences of each month\n",
    "month_counts = df_year['month'].value_counts().sort_index()\n",
    "\n",
    "print(month_counts)"
   ]
  },
  {
   "cell_type": "code",
   "execution_count": 7,
   "metadata": {},
   "outputs": [],
   "source": [
    "#### Missing data for December 2004 (only 26 to 31) and February 2005 (only 1 to 10)"
   ]
  },
  {
   "cell_type": "code",
   "execution_count": 8,
   "metadata": {},
   "outputs": [
    {
     "data": {
      "image/png": "[encoded data removed]",
      "text/plain": [
       "<Figure size 432x288 with 1 Axes>"
      ]
     },
     "metadata": {
      "needs_background": "light"
     },
     "output_type": "display_data"
    }
   ],
   "source": [
    "df.plot(kind='line', y='temp_med');\n",
    "plt.show()"
   ]
  },
  {
   "cell_type": "code",
   "execution_count": 9,
   "metadata": {},
   "outputs": [
    {
     "data": {
      "image/png": "[encoded data removed]",
      "text/plain": [
       "<Figure size 432x288 with 1 Axes>"
      ]
     },
     "metadata": {
      "needs_background": "light"
     },
     "output_type": "display_data"
    }
   ],
   "source": [
    "df.plot(kind='line', y='precip_med');\n",
    "plt.show()"
   ]
  },
  {
   "cell_type": "code",
   "execution_count": 10,
   "metadata": {},
   "outputs": [],
   "source": [
    "#### Article parameters:\n",
    "\n",
    "T_prime=19.9\n",
    "\n",
    "T1=23.2\n",
    "T2=0.07\n",
    "omega1=0.67\n",
    "phi1=1.53\n",
    "\n",
    "R1=85.9\n",
    "R2=0.98\n",
    "omega2=0.65\n",
    "phi2=1.99\n",
    "\n",
    "B_E=200\n",
    "p_ME=0.9\n",
    "p_ML=0.25\n",
    "p_MP=0.75\n",
    "tau_E=1\n",
    "tau_P=1\n",
    "c1=0.00554\n",
    "c2=-0.06737\n",
    "D1=36.5\n",
    "b1=0.04\n",
    "A=-0.03\n",
    "B=1.31\n",
    "C=-4.4\n",
    "b2=0.09\n",
    "tau_H=10\n",
    "DD=105\n",
    "Tmin=14.5\n",
    "gamma= 1/120\n",
    "R_L = 50\n",
    "N=8558\n",
    "M= 10000  #0\n",
    "E_M0=1 #0 # None\n",
    "I_H0=1 \n",
    "if E_M0 is None:\n",
    "        E_M0 = M / 100\n",
    "\n",
    "S_H0 = N - I_H0\n",
    "S_M0 = M - E_M0\n",
    "\n",
    "# Defining the functions of temperature and precipitation\n",
    "#def T(t):\n",
    "#        return T1 * (1 + T2 * cos(omega1 * t - phi1))\n",
    "\n",
    "#def R(t):\n",
    "#        return R1 * (1 + R2 * cos(omega2 * t - phi2))"
   ]
  },
  {
   "cell_type": "code",
   "execution_count": 11,
   "metadata": {},
   "outputs": [],
   "source": [
    "def Temp():\n",
    "    return df['temp_med']\n",
    "\n",
    "def Rain():\n",
    "    return df['precip_med']"
   ]
  },
  {
   "cell_type": "code",
   "execution_count": 12,
   "metadata": {},
   "outputs": [
    {
     "data": {
      "text/plain": [
       "0       26.7748\n",
       "1       26.8201\n",
       "2       26.2160\n",
       "3       26.0561\n",
       "4       25.6888\n",
       "         ...   \n",
       "1779    25.8514\n",
       "1780    26.4017\n",
       "1781    26.7066\n",
       "1782    24.7968\n",
       "1783    25.0496\n",
       "Name: temp_med, Length: 1784, dtype: float64"
      ]
     },
     "execution_count": 12,
     "metadata": {},
     "output_type": "execute_result"
    }
   ],
   "source": [
    "Temp()"
   ]
  },
  {
   "cell_type": "code",
   "execution_count": 13,
   "metadata": {},
   "outputs": [
    {
     "data": {
      "text/plain": [
       "0       0.7406\n",
       "1       0.7749\n",
       "2       0.5410\n",
       "3       0.3706\n",
       "4       0.8415\n",
       "         ...  \n",
       "1779    0.7252\n",
       "1780    0.8356\n",
       "1781    0.4734\n",
       "1782    6.8408\n",
       "1783    1.8999\n",
       "Name: precip_med, Length: 1784, dtype: float64"
      ]
     },
     "execution_count": 13,
     "metadata": {},
     "output_type": "execute_result"
    }
   ],
   "source": [
    "Rain()"
   ]
  },
  {
   "cell_type": "code",
   "execution_count": 14,
   "metadata": {},
   "outputs": [],
   "source": [
    "def original_model(t, z, df, B_E, p_ME, p_ML, p_MP, tau_E, tau_P, c1, c2,\n",
    "                   D1, b1, A, B, C, b2, tau_H, DD, Tmin, gamma, R_L,\n",
    "                   N, M, I_M0, I_H0, T_prime):\n",
    "    \n",
    "    S_H, I_H, R_H, S_M, E_M, I_M = z\n",
    "    \n",
    "#     Temperature and rain functions\n",
    "#     def Temp(t):\n",
    "#         return T1 * (1 + T2 * cos(omega1 * t - phi1))\n",
    "\n",
    "#     def Rain(t):\n",
    "#         return R1 * (1 + R2 * cos(omega2 * t - phi2))\n",
    "\n",
    "#     R_curr = Rain(t)\n",
    "#     T_curr = Temp(t)\n",
    "    \n",
    "    # Get the closest integer day to use for indexing\n",
    "    day_index = int(t)  \n",
    "\n",
    "    if day_index >= len(df):\n",
    "        day_index = len(df) - 1  # To avoid out-of-bounds issues\n",
    "    \n",
    "    T_curr = df.loc[day_index, 'temp_med']\n",
    "    R_curr = df.loc[day_index, 'precip_med']\n",
    "    \n",
    "    # Duration of larval development phase\n",
    "    def tau_L(Temp):\n",
    "        return 1 / (c1 * Temp + c2)\n",
    "    \n",
    "    # Daily survival rate of mosquitoes\n",
    "    def p(Temp):\n",
    "        return np.exp(-1 / (A * Temp**2 + B * Temp + C))\n",
    "    \n",
    "    # Larval survival probability dependent on temperature and rain\n",
    "    def p_LT(Temp):\n",
    "        return np.exp(-(c1 * Temp + c2))\n",
    "    \n",
    "    def p_LR(Rain):\n",
    "        return (4 * p_ML / R_L**2) * Rain * (R_L - Rain)\n",
    "    \n",
    "    def p_LRT(Rain, Temp):\n",
    "        return p_LR(Rain) * p_LT(Temp)\n",
    "    \n",
    "    # Egg and pupa survival probability dependent on rain\n",
    "    def p_ER(Rain):\n",
    "        return (4 * p_ME / R_L**2) * Rain * (R_L - Rain)\n",
    "    \n",
    "    def p_PR(Rain):\n",
    "        return (4 * p_MP / R_L**2) * Rain * (R_L - Rain)\n",
    "\n",
    "    # Duration of the sporogonic cycle\n",
    "    def tau_M(Temp):\n",
    "        return DD / (Temp - Tmin)\n",
    "    \n",
    "    tau_M_curr = tau_M(T_curr)\n",
    "\n",
    "    # Defining the mosquito survival function\n",
    "    def l_tau_M(tau_M, Temp):  \n",
    "        p_T = p(Temp)\n",
    "        return p_T**tau_M\n",
    "    \n",
    "    l_curr = l_tau_M(tau_M_curr, T_curr)\n",
    "\n",
    "    # Defining the mosquito mortality rate\n",
    "    def mu(Temp):\n",
    "        return -np.log(p(Temp))\n",
    "    \n",
    "    mu_curr = mu(T_curr)\n",
    "    \n",
    "    # Calculate the biting rate and transmission probability\n",
    "    def a(Temp):\n",
    "        return (Temp - T_prime) / D1\n",
    "    \n",
    "    a_curr = a(T_curr)\n",
    "    \n",
    "    def b(Rain, Temp):\n",
    "        return B_E * p_ER(Rain) * p_LRT(Rain, Temp) * p_PR(Rain) / (tau_E + tau_L(Temp) + tau_P)\n",
    "    \n",
    "    b_curr = b(R_curr, T_curr)\n",
    "    \n",
    "    dShdt = -a_curr * b2 * (I_M0 / N) * S_H\n",
    "    dIhdt = a_curr * b2 * (I_M0 / N) * S_H - gamma * I_H\n",
    "    dRhdt = gamma * I_H\n",
    "    \n",
    "    dSmdt = b_curr - a_curr * b1 * (I_H0 / N) * S_M - mu_curr * S_M\n",
    "    dEmdt = a_curr * b1 * (I_H0 / N) * S_M - mu_curr * E_M - a_curr * b1 * (I_H0 / N) * S_M * l_curr\n",
    "    dImdt = a_curr * b1 * (I_H0 / N) * S_M * l_curr - mu_curr * I_M\n",
    "    \n",
    "    return [dShdt, dIhdt, dRhdt, dSmdt, dEmdt, dImdt]"
   ]
  },
  {
   "cell_type": "code",
   "execution_count": 15,
   "metadata": {},
   "outputs": [],
   "source": [
    "args = (df, B_E, p_ME, p_ML, p_MP, tau_E, tau_P, c1, c2,\n",
    "        D1, b1, A, B, C, b2, tau_H, DD, Tmin, gamma, R_L,\n",
    "        N, M, E_M0, I_H0, T_prime)"
   ]
  },
  {
   "cell_type": "code",
   "execution_count": 17,
   "metadata": {},
   "outputs": [
    {
     "data": {
      "image/png": "[encoded data removed]",
      "text/plain": [
       "<Figure size 720x432 with 1 Axes>"
      ]
     },
     "metadata": {
      "needs_background": "light"
     },
     "output_type": "display_data"
    }
   ],
   "source": [
    "t_eval = np.linspace(0, 1783, 1000)  # Evaluate the solution at 1000 points between 0 and 1783\n",
    "sol = solve_ivp(original_model, [0, 1783], [S_H0, I_H0, 0, S_M0, E_M0, 0], args=args, dense_output=True, t_eval=t_eval, method=\"DOP853\")\n",
    "#sol\n",
    "\n",
    "times = sol.t\n",
    "S_H, I_H, R_H, S_M, E_M, I_M = sol.y\n",
    "\n",
    "plt.figure(figsize=(10, 6))\n",
    "plt.plot(times, S_H, label='Susceptible')\n",
    "plt.plot(times, I_H, label='Infected')\n",
    "plt.plot(times, R_H, label='Recovered')\n",
    "\n",
    "plt.xlabel('Time (days)')\n",
    "plt.ylabel('Population')\n",
    "plt.title(f'Malaria SIR Model with Parameters: I_H0={I_H0}, E_M0={E_M0}, A={round(A, 2)}, B={round(B, 2)}, C={round(C, 2)}, gamma={gamma}, R_L={R_L}, T_prime={round(T_prime, 2)}')\n",
    "\n",
    "plt.legend()\n",
    "\n",
    "plt.show()"
   ]
  },
  {
   "cell_type": "code",
   "execution_count": 18,
   "metadata": {},
   "outputs": [
    {
     "data": {
      "image/png": "[encoded data removed]",
      "text/plain": [
       "<Figure size 720x432 with 1 Axes>"
      ]
     },
     "metadata": {
      "needs_background": "light"
     },
     "output_type": "display_data"
    }
   ],
   "source": [
    "t_eval = np.linspace(0, 1783, 1000)  # Evaluate the solution at 1000 points between 0 and 1783\n",
    "sol = solve_ivp(original_model, [0, 1783], [S_H0, I_H0, 0, S_M0, E_M0, 0], args=args, dense_output=True, t_eval=t_eval, method=\"DOP853\")\n",
    "#sol\n",
    "\n",
    "times = sol.t\n",
    "S_H, I_H, R_H, S_M, E_M, I_M = sol.y\n",
    "\n",
    "plt.figure(figsize=(10, 6))\n",
    "plt.plot(times, S_M, label='Susceptible')\n",
    "plt.plot(times, E_M, label='Exposed')\n",
    "plt.plot(times, I_M, label='Infected')\n",
    "\n",
    "plt.xlabel('Time (days)')\n",
    "plt.ylabel('Population')\n",
    "plt.title(f'Malaria SEI Model with Parameters: I_H0={I_H0}, E_M0={E_M0}, A={round(A, 2)}, B={round(B, 2)}, C={round(C, 2)}, gamma={gamma}, R_L={R_L}, T_prime={round(T_prime, 2)}')\n",
    "\n",
    "plt.legend()\n",
    "\n",
    "plt.show()"
   ]
  },
  {
   "cell_type": "code",
   "execution_count": 19,
   "metadata": {},
   "outputs": [
    {
     "data": {
      "image/png": "[encoded data removed]",
      "text/plain": [
       "<Figure size 720x432 with 1 Axes>"
      ]
     },
     "metadata": {
      "needs_background": "light"
     },
     "output_type": "display_data"
    }
   ],
   "source": [
    "t_eval = np.linspace(0, 1783, 1000)  # Evaluate the solution at 1000 points between 0 and 1783\n",
    "sol = solve_ivp(original_model, [0, 1783], [N-1000, 1000, 0, M-5000, 5000, 0], args=args, dense_output=True, t_eval=t_eval, method=\"DOP853\")\n",
    "#sol\n",
    "\n",
    "times = sol.t\n",
    "S_H, I_H, R_H, S_M, E_M, I_M = sol.y\n",
    "\n",
    "plt.figure(figsize=(10, 6))\n",
    "plt.plot(times, S_H, label='Susceptible')\n",
    "plt.plot(times, I_H, label='Infected')\n",
    "plt.plot(times, R_H, label='Recovered')\n",
    "\n",
    "plt.xlabel('Time (days)')\n",
    "plt.ylabel('Population')\n",
    "plt.title(f'Malaria SIR Model with Parameters: I_H0={I_H0}, E_M0={E_M0}, A={round(A, 2)}, B={round(B, 2)}, C={round(C, 2)}, gamma={gamma}, R_L={R_L}, T_prime={round(T_prime, 2)}')\n",
    "\n",
    "plt.legend()\n",
    "\n",
    "plt.show()"
   ]
  },
  {
   "cell_type": "code",
   "execution_count": 20,
   "metadata": {},
   "outputs": [
    {
     "data": {
      "image/png": "[encoded data removed]",
      "text/plain": [
       "<Figure size 720x432 with 1 Axes>"
      ]
     },
     "metadata": {
      "needs_background": "light"
     },
     "output_type": "display_data"
    }
   ],
   "source": [
    "t_eval = np.linspace(0, 1783, 1000)  # Evaluate the solution at 1000 points between 0 and 1783\n",
    "sol = solve_ivp(original_model, [0, 1783], [N-1000, 1000, 0, M-5000, 5000, 0], args=args, dense_output=True, t_eval=t_eval, method=\"DOP853\")\n",
    "#sol\n",
    "\n",
    "times = sol.t\n",
    "S_H, I_H, R_H, S_M, E_M, I_M = sol.y\n",
    "\n",
    "plt.figure(figsize=(10, 6))\n",
    "plt.plot(times, S_M, label='Susceptible')\n",
    "plt.plot(times, E_M, label='Exposed')\n",
    "plt.plot(times, I_M, label='Infected')\n",
    "\n",
    "plt.xlabel('Time (days)')\n",
    "plt.ylabel('Population')\n",
    "plt.title(f'Malaria SEI Model with Parameters: I_H0={I_H0}, E_M0={E_M0}, A={round(A, 2)}, B={round(B, 2)}, C={round(C, 2)}, gamma={gamma}, R_L={R_L}, T_prime={round(T_prime, 2)}')\n",
    "\n",
    "plt.legend()\n",
    "\n",
    "plt.show()"
   ]
  },
  {
   "cell_type": "code",
   "execution_count": null,
   "metadata": {},
   "outputs": [],
   "source": [
    "#### As seen in the original paper, the function uses T_1 for two different things\n",
    "\n",
    "### Using T_prime with the value of T1:\n",
    "\n",
    "args = (df, B_E, p_ME, p_ML, p_MP, tau_E, tau_P, c1, c2,\n",
    "        D1, b1, A, B, C, b2, tau_H, DD, Tmin, gamma, R_L,\n",
    "        N, M, E_M0, I_H0, T1)"
   ]
  }
 ],
 "metadata": {
  "kernelspec": {
   "display_name": "SageMath 9.2",
   "language": "sage",
   "name": "sagemath"
  },
  "language_info": {
   "codemirror_mode": {
    "name": "ipython",
    "version": 3
   },
   "file_extension": ".py",
   "mimetype": "text/x-python",
   "name": "python",
   "nbconvert_exporter": "python",
   "pygments_lexer": "ipython3",
   "version": "3.7.7"
  }
 },
 "nbformat": 4,
 "nbformat_minor": 4
}
